{
 "cells": [
  {
   "cell_type": "code",
   "execution_count": null,
   "id": "800c648e",
   "metadata": {},
   "outputs": [],
   "source": [
    "%load_ext autoreload\n",
    "%autoreload 2"
   ]
  },
  {
   "cell_type": "code",
   "execution_count": null,
   "id": "cca75f14",
   "metadata": {},
   "outputs": [],
   "source": [
    "from cryptic.evaluation import models, evaluations"
   ]
  },
  {
   "cell_type": "code",
   "execution_count": null,
   "id": "3cbb4612",
   "metadata": {},
   "outputs": [],
   "source": [
    "evaluation = evaluations.get(\"Page1Example\")\n",
    "model = models.get(\"RandomString\")"
   ]
  },
  {
   "cell_type": "code",
   "execution_count": null,
   "id": "357e73f7",
   "metadata": {},
   "outputs": [],
   "source": [
    "evaluation.qa_frame.df.sample(5)"
   ]
  },
  {
   "cell_type": "code",
   "execution_count": null,
   "id": "b537a01f",
   "metadata": {},
   "outputs": [],
   "source": [
    "metrics, answers_df = evaluation.run(model)"
   ]
  },
  {
   "cell_type": "code",
   "execution_count": null,
   "id": "ea9740bd",
   "metadata": {},
   "outputs": [],
   "source": [
    "answers_df"
   ]
  }
 ],
 "metadata": {
  "kernelspec": {
   "display_name": "Python 3 (ipykernel)",
   "language": "python",
   "name": "python3"
  },
  "language_info": {
   "codemirror_mode": {
    "name": "ipython",
    "version": 3
   },
   "file_extension": ".py",
   "mimetype": "text/x-python",
   "name": "python",
   "nbconvert_exporter": "python",
   "pygments_lexer": "ipython3",
   "version": "3.8.9"
  }
 },
 "nbformat": 4,
 "nbformat_minor": 5
}
