{
 "cells": [
  {
   "cell_type": "code",
   "execution_count": null,
   "id": "2a1636ca",
   "metadata": {},
   "outputs": [],
   "source": [
    "%load_ext autoreload\n",
    "%autoreload 2"
   ]
  },
  {
   "cell_type": "code",
   "execution_count": null,
   "id": "8e32e392",
   "metadata": {},
   "outputs": [],
   "source": [
    "import functools\n",
    "from cryptic.evaluation.evaluations import GeorgeHoQA\n",
    "from cryptic.models.oai import OpenAIQA\n",
    "from cryptic.prompts.inject_prompt import inject_prompt"
   ]
  },
  {
   "cell_type": "code",
   "execution_count": null,
   "id": "e1580a4b",
   "metadata": {},
   "outputs": [],
   "source": [
    "CSV_FILENAME = \"data/examples/qc_1711.csv\"\n",
    "DUMMY_CLUE = \"A farmer's son\""
   ]
  },
  {
   "cell_type": "markdown",
   "id": "2b7e9f72",
   "metadata": {},
   "source": [
    "Check that injection of clue and num letters into prompt template is working correctly:"
   ]
  },
  {
   "cell_type": "code",
   "execution_count": null,
   "id": "f3ed4560",
   "metadata": {},
   "outputs": [],
   "source": [
    "prompt_fn = functools.partial(inject_prompt, \"cryptic.prompts.cot.ben_v1\")\n",
    "prompt_fn(DUMMY_CLUE, 5)"
   ]
  },
  {
   "cell_type": "code",
   "execution_count": null,
   "id": "dbb1e0d0",
   "metadata": {},
   "outputs": [],
   "source": [
    "evaluation = GeorgeHoQA(CSV_FILENAME, num_answers=2)"
   ]
  },
  {
   "cell_type": "code",
   "execution_count": null,
   "id": "e876b127",
   "metadata": {},
   "outputs": [],
   "source": [
    "model = OpenAIQA(prompt_fn=prompt_fn, model_name=\"text-davinci-003\", max_tokens=8)"
   ]
  },
  {
   "cell_type": "code",
   "execution_count": null,
   "id": "0a70caff",
   "metadata": {},
   "outputs": [],
   "source": [
    "df = evaluation.qa_frame.df\n",
    "df.head(3)"
   ]
  },
  {
   "cell_type": "markdown",
   "id": "c1b380fe",
   "metadata": {},
   "source": [
    "First feed a single clue through the API to look at model output and check that we are correctly parsing responses.\n",
    "\n",
    "This might need to be tweaked: e.g. removal of newline / space chars etc,\n",
    "to convert into a standard answer format"
   ]
  },
  {
   "cell_type": "code",
   "execution_count": null,
   "id": "8983adc3",
   "metadata": {},
   "outputs": [],
   "source": [
    "clue, num_letters = evaluation.qa_frame.sample(1).df.iloc[0][[\"clue\", \"num_letters\"]]"
   ]
  },
  {
   "cell_type": "code",
   "execution_count": null,
   "id": "2dfd8ed0",
   "metadata": {},
   "outputs": [],
   "source": [
    "clue, num_letters"
   ]
  },
  {
   "cell_type": "code",
   "execution_count": null,
   "id": "715d4783",
   "metadata": {},
   "outputs": [],
   "source": [
    "response = model.get_response(clue, num_letters, num_answers=1)\n",
    "response"
   ]
  },
  {
   "cell_type": "code",
   "execution_count": null,
   "id": "1b78ff55",
   "metadata": {},
   "outputs": [],
   "source": [
    "model.answers_from_response(response)"
   ]
  },
  {
   "cell_type": "markdown",
   "id": "46db2217",
   "metadata": {},
   "source": [
    "Once we're confident that answers are being extracted correctly we can run a whole set of clues through"
   ]
  },
  {
   "cell_type": "code",
   "execution_count": null,
   "id": "a8ba8ad3",
   "metadata": {},
   "outputs": [],
   "source": [
    "metrics, answer_df = evaluation.run(model)"
   ]
  },
  {
   "cell_type": "code",
   "execution_count": null,
   "id": "4375664f",
   "metadata": {},
   "outputs": [],
   "source": [
    "prediction_cols = [c for c in answer_df.columns if c.startswith(\"prediction\")]\n",
    "answer_df[[\"clue\", \"answer\"] + prediction_cols + [\"correct\"]]"
   ]
  }
 ],
 "metadata": {
  "kernelspec": {
   "display_name": "Python 3 (ipykernel)",
   "language": "python",
   "name": "python3"
  },
  "language_info": {
   "codemirror_mode": {
    "name": "ipython",
    "version": 3
   },
   "file_extension": ".py",
   "mimetype": "text/x-python",
   "name": "python",
   "nbconvert_exporter": "python",
   "pygments_lexer": "ipython3",
   "version": "3.8.9"
  }
 },
 "nbformat": 4,
 "nbformat_minor": 5
}
