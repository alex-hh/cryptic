{
 "cells": [
  {
   "cell_type": "code",
   "execution_count": null,
   "id": "2a1636ca",
   "metadata": {},
   "outputs": [],
   "source": [
    "%load_ext autoreload\n",
    "%autoreload 2"
   ]
  },
  {
   "cell_type": "code",
   "execution_count": null,
   "id": "f2a40627",
   "metadata": {},
   "outputs": [],
   "source": [
    "import functools\n",
    "import re\n",
    "\n",
    "from cryptic.evaluation.evaluations import GeorgeHoQA\n",
    "from cryptic.models.oai import OpenAIQA\n",
    "from cryptic.models.validators import SubWordConsistencyValidator\n",
    "from cryptic.prompts.interface import PromptInterface"
   ]
  },
  {
   "cell_type": "code",
   "execution_count": null,
   "id": "e1580a4b",
   "metadata": {},
   "outputs": [],
   "source": [
    "CSV_FILENAME = \"data/examples/qc_1711.csv\"\n",
    "DUMMY_CLUE = \"A farmer's son\"\n",
    "NUM_CLUES = 2"
   ]
  },
  {
   "cell_type": "markdown",
   "id": "106adf64",
   "metadata": {},
   "source": [
    "Check that injection of clue and num letters into prompt template is working correctly:"
   ]
  },
  {
   "cell_type": "code",
   "execution_count": null,
   "id": "02d6153a",
   "metadata": {},
   "outputs": [],
   "source": [
    "prompt_interface = PromptInterface(\"cryptic.prompts.cot.ben_v1\")\n",
    "prompt = prompt_interface.inject_prompt(DUMMY_CLUE, 5)\n",
    "print(prompt)"
   ]
  },
  {
   "cell_type": "markdown",
   "id": "b1739fc3",
   "metadata": {},
   "source": [
    "Check extraction of answer is working correctly"
   ]
  },
  {
   "cell_type": "code",
   "execution_count": null,
   "id": "9d71794f",
   "metadata": {},
   "outputs": [],
   "source": [
    "out = prompt_interface.prompt_templates[\"example_output\"]"
   ]
  },
  {
   "cell_type": "code",
   "execution_count": null,
   "id": "e76897a0",
   "metadata": {},
   "outputs": [],
   "source": [
    "res = prompt_interface.extract_answer(out)\n",
    "res"
   ]
  },
  {
   "cell_type": "code",
   "execution_count": null,
   "id": "23e8567f",
   "metadata": {},
   "outputs": [],
   "source": [
    "prompt_interface.decompose(res[\"wordplay\"])"
   ]
  },
  {
   "cell_type": "code",
   "execution_count": null,
   "id": "19afba41",
   "metadata": {},
   "outputs": [],
   "source": [
    "validator = SubWordConsistencyValidator(prompt_interface)"
   ]
  },
  {
   "cell_type": "code",
   "execution_count": null,
   "id": "dbb1e0d0",
   "metadata": {},
   "outputs": [],
   "source": [
    "evaluation = GeorgeHoQA(CSV_FILENAME, num_answers=2, num_clues=NUM_CLUES)"
   ]
  },
  {
   "cell_type": "code",
   "execution_count": null,
   "id": "e876b127",
   "metadata": {},
   "outputs": [],
   "source": [
    "model = OpenAIQA(\n",
    "    prompt_interface=prompt_interface,\n",
    "    model_name=\"text-davinci-003\",\n",
    "    max_tokens=64,\n",
    "    validators=[validator],\n",
    "    validator_names=[\"consistent_decomposition\"]\n",
    ")"
   ]
  },
  {
   "cell_type": "code",
   "execution_count": null,
   "id": "0a70caff",
   "metadata": {},
   "outputs": [],
   "source": [
    "df = evaluation.qa_frame.df\n",
    "df.head(3)"
   ]
  },
  {
   "cell_type": "markdown",
   "id": "c1b380fe",
   "metadata": {},
   "source": [
    "First feed a single clue through the API to look at model output and check that we are correctly parsing responses.\n",
    "\n",
    "This might need to be tweaked: e.g. removal of newline / space chars etc,\n",
    "to convert into a standard answer format"
   ]
  },
  {
   "cell_type": "code",
   "execution_count": null,
   "id": "8983adc3",
   "metadata": {},
   "outputs": [],
   "source": [
    "clue, num_letters = evaluation.qa_frame.sample(1).df.iloc[0][[\"clue\", \"num_letters\"]]"
   ]
  },
  {
   "cell_type": "code",
   "execution_count": null,
   "id": "715d4783",
   "metadata": {},
   "outputs": [],
   "source": [
    "response = model.get_response(clue, num_letters, num_answers=2)\n",
    "response"
   ]
  },
  {
   "cell_type": "code",
   "execution_count": null,
   "id": "c7d14577",
   "metadata": {},
   "outputs": [],
   "source": [
    "out = response[\"choices\"][0][\"text\"]"
   ]
  },
  {
   "cell_type": "code",
   "execution_count": null,
   "id": "6ff97858",
   "metadata": {},
   "outputs": [],
   "source": [
    "res = prompt_interface.extract_answer(response[\"choices\"][0][\"text\"])\n",
    "res"
   ]
  },
  {
   "cell_type": "code",
   "execution_count": null,
   "id": "641285ac",
   "metadata": {},
   "outputs": [],
   "source": [
    "prompt_interface.decompose(res[\"wordplay\"])"
   ]
  },
  {
   "cell_type": "code",
   "execution_count": null,
   "id": "42c5deec",
   "metadata": {},
   "outputs": [],
   "source": [
    "validator.validate(res[\"answer\"], res[\"predicted_definition\"], res[\"wordplay\"])"
   ]
  },
  {
   "cell_type": "markdown",
   "id": "46db2217",
   "metadata": {},
   "source": [
    "Once we're confident that answers are being extracted correctly we can run a whole set of clues through"
   ]
  },
  {
   "cell_type": "code",
   "execution_count": null,
   "id": "a8ba8ad3",
   "metadata": {},
   "outputs": [],
   "source": [
    "metrics, answer_df = evaluation.run(model)"
   ]
  },
  {
   "cell_type": "code",
   "execution_count": null,
   "id": "8f1508be",
   "metadata": {},
   "outputs": [],
   "source": [
    "answer_df"
   ]
  },
  {
   "cell_type": "code",
   "execution_count": null,
   "id": "1530f27c",
   "metadata": {},
   "outputs": [],
   "source": [
    "import pandas as pd\n",
    "pd.options.display.max_colwidth = 200"
   ]
  },
  {
   "cell_type": "code",
   "execution_count": null,
   "id": "c6b3065f",
   "metadata": {},
   "outputs": [],
   "source": [
    "answer_df[answer_df[\"correct\"]][[\"clue\", \"answer\", \"prediction_0\", \"prediction_1\", \"explanation_0\", \"explanation_1\"]]"
   ]
  }
 ],
 "metadata": {
  "kernelspec": {
   "display_name": "Python 3 (ipykernel)",
   "language": "python",
   "name": "python3"
  },
  "language_info": {
   "codemirror_mode": {
    "name": "ipython",
    "version": 3
   },
   "file_extension": ".py",
   "mimetype": "text/x-python",
   "name": "python",
   "nbconvert_exporter": "python",
   "pygments_lexer": "ipython3",
   "version": "3.8.9"
  }
 },
 "nbformat": 4,
 "nbformat_minor": 5
}
